{
 "cells": [
  {
   "cell_type": "markdown",
   "id": "ae174f83-38c6-47a8-a975-7ad69bf566da",
   "metadata": {},
   "source": [
    "Mathematical and Statistical Programming with NumPy"
   ]
  },
  {
   "cell_type": "code",
   "execution_count": 2,
   "id": "1556881c-9fa8-411c-8e88-ec8accd65731",
   "metadata": {},
   "outputs": [],
   "source": [
    "import numpy as np"
   ]
  },
  {
   "cell_type": "code",
   "execution_count": 4,
   "id": "8c135d88-92e3-4b0a-a599-90447aa4ab95",
   "metadata": {},
   "outputs": [],
   "source": [
    "x= np.arange(10)"
   ]
  },
  {
   "cell_type": "code",
   "execution_count": 8,
   "id": "f43e5e4b-1197-4375-a0c4-66cbf5badfae",
   "metadata": {},
   "outputs": [
    {
     "data": {
      "text/plain": [
       "array([0, 1, 2, 3, 4, 5, 6, 7, 8, 9])"
      ]
     },
     "execution_count": 8,
     "metadata": {},
     "output_type": "execute_result"
    }
   ],
   "source": [
    "x"
   ]
  },
  {
   "cell_type": "code",
   "execution_count": 12,
   "id": "bc18c835-8742-47c0-a006-ea8f49536eae",
   "metadata": {},
   "outputs": [
    {
     "name": "stdout",
     "output_type": "stream",
     "text": [
      "[0 1 2 3 4]\n"
     ]
    }
   ],
   "source": [
    "#1. Display the first 5 elements;\n",
    "print(x[0:5:1])"
   ]
  },
  {
   "cell_type": "code",
   "execution_count": 19,
   "id": "1257baa3-fbec-4d6d-85e2-f1406ec04978",
   "metadata": {},
   "outputs": [
    {
     "name": "stdout",
     "output_type": "stream",
     "text": [
      "[0 2 4 6 8]\n"
     ]
    }
   ],
   "source": [
    "#2. Display every other element:\n",
    "print(x[0:-1:2])"
   ]
  },
  {
   "cell_type": "code",
   "execution_count": 29,
   "id": "14ba8815-503b-4cdf-8d81-1ba17f573f1d",
   "metadata": {},
   "outputs": [
    {
     "name": "stdout",
     "output_type": "stream",
     "text": [
      "[9 8 7 6 5]\n"
     ]
    }
   ],
   "source": [
    "#3. Display the elements from index 5 in reverse order:\n",
    "print(x[-1:4:-1])"
   ]
  },
  {
   "cell_type": "code",
   "execution_count": 37,
   "id": "12018b24-5428-46ba-9c39-2bdcbf312018",
   "metadata": {},
   "outputs": [],
   "source": [
    "y = np.array([[12, 5, 2, 4],[7, 6, 8, 8],[1, 6, 7, 7]])\n"
   ]
  },
  {
   "cell_type": "code",
   "execution_count": 39,
   "id": "090a0dc5-af2c-428b-88f6-f489e76df0a9",
   "metadata": {},
   "outputs": [
    {
     "data": {
      "text/plain": [
       "array([[12,  5,  2],\n",
       "       [ 7,  6,  8]])"
      ]
     },
     "execution_count": 39,
     "metadata": {},
     "output_type": "execute_result"
    }
   ],
   "source": [
    "#4. Display the first 2 rows and first 3 columns\n",
    "y[:2, :3]"
   ]
  },
  {
   "cell_type": "code",
   "execution_count": 45,
   "id": "c5d5b783-00f3-48cf-a251-3cb075a8a529",
   "metadata": {},
   "outputs": [
    {
     "data": {
      "text/plain": [
       "array([12,  7,  1])"
      ]
     },
     "execution_count": 45,
     "metadata": {},
     "output_type": "execute_result"
    }
   ],
   "source": [
    "#5. Display first colmn of y:\n",
    "\n",
    "y[:,0]"
   ]
  },
  {
   "cell_type": "code",
   "execution_count": 49,
   "id": "011d9bb6-aa09-4378-af1d-a7f2c76cca85",
   "metadata": {},
   "outputs": [
    {
     "data": {
      "text/plain": [
       "array([12,  5,  2,  4])"
      ]
     },
     "execution_count": 49,
     "metadata": {},
     "output_type": "execute_result"
    }
   ],
   "source": [
    "#6.Displau first row of y:\n",
    "\n",
    "y[0,:]"
   ]
  },
  {
   "cell_type": "code",
   "execution_count": 61,
   "id": "82654b87-5e11-4118-bc1f-3d737157b9fd",
   "metadata": {},
   "outputs": [],
   "source": [
    "#7.real cdc_1 file into notebook\n",
    "data = np.genfromtxt(r\"C:\\Users\\Admin\\Documents\\Course Files\\QADHPYTHON\\data\\cdc_1.csv\", delimiter = ',', skip_header = 1)"
   ]
  },
  {
   "cell_type": "code",
   "execution_count": 63,
   "id": "6148adf7-adf4-4826-bf46-e50944bd3ada",
   "metadata": {},
   "outputs": [
    {
     "data": {
      "text/plain": [
       "array([[ 70., 175.,  77.],\n",
       "       [ 71., 194.,  31.],\n",
       "       [ 67., 170.,  45.],\n",
       "       ...,\n",
       "       [ 69., 224.,  73.],\n",
       "       [ 73., 200.,  35.],\n",
       "       [ 69., 170.,  83.]])"
      ]
     },
     "execution_count": 63,
     "metadata": {},
     "output_type": "execute_result"
    }
   ],
   "source": [
    "#8. Calculations:\n",
    "data\n",
    "height = data[:,0]\n",
    "weight = data[:,1]\n",
    "age = data[:,2]\n",
    "minimums = {\"height\": min(height), \"weight\":min(weight), \"age\":min(age)}\n",
    "maximums = {\"height\":max(height), \"weight\":max(weight), \"age\":max(age)}\n",
    "column_length = len(height)\n",
    "means = {\"height\":sum(height)/column_length, \"weight\":sum(weight)/column_length, \"age\":sum(age)/column_length}\n"
   ]
  },
  {
   "cell_type": "markdown",
   "id": "3eb8fd53-3954-4dac-92ce-bf6fe8575807",
   "metadata": {},
   "source": [
    "Descriptive Statistics with NumPy"
   ]
  },
  {
   "cell_type": "code",
   "execution_count": 90,
   "id": "c331a7f4-203b-444a-a407-d08381c19623",
   "metadata": {},
   "outputs": [],
   "source": [
    "#1. Read in cnc_nan.csv\n",
    "\n",
    "import scipy.stats\n",
    "\n",
    "data =np.genfromtxt(r\"C:\\Users\\Admin\\Documents\\Course Files\\QADHPYTHON\\data\\cdc_nan.csv\", delimiter = ',', skip_header = 1)"
   ]
  },
  {
   "cell_type": "code",
   "execution_count": 97,
   "id": "472defd1-ebd8-4a58-ab1f-dd2ea898643b",
   "metadata": {},
   "outputs": [],
   "source": [
    "#2. Separate heights and weights column\n",
    "heights = data[:,0]\n",
    "weights = data[:,1]"
   ]
  },
  {
   "cell_type": "code",
   "execution_count": null,
   "id": "f0215b2e-6dfc-4f74-97d2-0f7446f11b4c",
   "metadata": {},
   "outputs": [],
   "source": []
  },
  {
   "cell_type": "code",
   "execution_count": null,
   "id": "00d184fa-67f3-42f8-ad02-6f920bc8144b",
   "metadata": {},
   "outputs": [],
   "source": []
  }
 ],
 "metadata": {
  "kernelspec": {
   "display_name": "Python 3 (ipykernel)",
   "language": "python",
   "name": "python3"
  },
  "language_info": {
   "codemirror_mode": {
    "name": "ipython",
    "version": 3
   },
   "file_extension": ".py",
   "mimetype": "text/x-python",
   "name": "python",
   "nbconvert_exporter": "python",
   "pygments_lexer": "ipython3",
   "version": "3.12.4"
  }
 },
 "nbformat": 4,
 "nbformat_minor": 5
}
