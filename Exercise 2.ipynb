{
 "cells": [
  {
   "cell_type": "markdown",
   "id": "33c9569f-ba80-49bc-a9b3-66c0e54f9ddc",
   "metadata": {},
   "source": [
    "Data Structures"
   ]
  },
  {
   "cell_type": "markdown",
   "id": "a63f67e5-4c54-4af5-a626-5ed3a2a5f254",
   "metadata": {},
   "source": [
    "Lists"
   ]
  },
  {
   "cell_type": "code",
   "execution_count": 1,
   "id": "cdd4678f-c562-4ac6-985e-761eeb3b737a",
   "metadata": {},
   "outputs": [],
   "source": [
    "ages = [12,18,33,84,45,67,12,82,95,16,10,23,43,29,40,34,30,16,44,69,70,74,38, 65,36,83,50,11,79,64,78,37,3,8,68,22,4,60,33,82,45,23,5,18,28,99,17,81 ,14,88,50,19,59,7,44,93,35,72,25,63,11,69,11,76,10,60,30,14,21,82,47,6 ,21,88,46,78,92,48,36,28,51] "
   ]
  },
  {
   "cell_type": "code",
   "execution_count": 2,
   "id": "094c168d-6c35-421b-bb40-fdc4dcdb5254",
   "metadata": {},
   "outputs": [
    {
     "name": "stdout",
     "output_type": "stream",
     "text": [
      "12\n",
      "51\n",
      "[84, 45, 67, 12, 82, 95, 16, 10, 23, 43, 29, 40, 34, 30, 16, 44, 69, 70, 74, 38, 65, 36, 83, 50, 11, 79, 64, 78, 37, 3, 8, 68, 22, 4, 60, 33, 82, 45, 23, 5, 18, 28, 99, 17, 81, 14, 88, 50, 19, 59, 7, 44, 93, 35, 72, 25, 63, 11, 69, 11, 76, 10, 60, 30, 14, 21, 82, 47, 6, 21, 88, 46, 78, 92, 48, 36, 28, 51]\n",
      "[10, 16, 95, 82, 12, 67, 45, 84, 33, 18, 12]\n",
      "[1, 3, 5, 7, 9, 11, 13, 15, 17, 19, 21]\n"
     ]
    }
   ],
   "source": [
    "#len of ages:\n",
    "length_ages_list = len(ages)\n",
    "#first element of list:\n",
    "first_element = ages[0]\n",
    "print(first_element)\n",
    "last_element = ages[length_ages_list-1]\n",
    "print(last_element)\n",
    "print(ages[3:])\n",
    "first_ten_ages = ages[10::-1]\n",
    "print(first_ten_ages)\n",
    "odd_numbers = [1,3,5,7,9,11,15,17,19,21]\n",
    "odd_numbers.insert(6,13)\n",
    "print(odd_numbers)"
   ]
  },
  {
   "cell_type": "markdown",
   "id": "d8deaf13-2799-42fa-9d01-d5580384ebfc",
   "metadata": {},
   "source": [
    "Strings"
   ]
  },
  {
   "cell_type": "code",
   "execution_count": 3,
   "id": "fe0c2eec-de3c-418b-9b93-f70245ae2dc4",
   "metadata": {},
   "outputs": [],
   "source": [
    "greetings = \"Hello\""
   ]
  },
  {
   "cell_type": "code",
   "execution_count": 4,
   "id": "4e520871-4505-49ed-9b90-6011018808c7",
   "metadata": {},
   "outputs": [
    {
     "name": "stdout",
     "output_type": "stream",
     "text": [
      "olleH\n"
     ]
    }
   ],
   "source": [
    "greetings_backwards = greetings[::-1]\n",
    "print(greetings_backwards)"
   ]
  },
  {
   "cell_type": "code",
   "execution_count": 5,
   "id": "8e88bcb4-69a3-46e7-b99c-76b9c5cf3186",
   "metadata": {},
   "outputs": [
    {
     "name": "stdout",
     "output_type": "stream",
     "text": [
      "United Kingdom Of Great Britain And Northern Ireland\n"
     ]
    }
   ],
   "source": [
    "UK = \"United Kingdom of Great Britain and Northern Ireland\" \n",
    "UK = UK.title()\n",
    "print(UK)"
   ]
  },
  {
   "cell_type": "code",
   "execution_count": 6,
   "id": "f1bc57c4-1699-4717-8747-34de95058c75",
   "metadata": {},
   "outputs": [
    {
     "data": {
      "text/plain": [
       "22"
      ]
     },
     "execution_count": 6,
     "metadata": {},
     "output_type": "execute_result"
    }
   ],
   "source": [
    "byron = \"Fare thee well and if forever still forever fare thee well\"\n",
    "\n",
    "def word_finder(string, word):\n",
    "    index = string.find(word)\n",
    "    return index\n",
    "\n",
    "word_finder(byron, \"forever\")"
   ]
  },
  {
   "cell_type": "markdown",
   "id": "61bfbeca-18d3-4235-97ad-e471a3cc3700",
   "metadata": {},
   "source": [
    "Tuples"
   ]
  },
  {
   "cell_type": "code",
   "execution_count": 7,
   "id": "f8f76838-2131-4ad3-afb3-4cfcac9a0de0",
   "metadata": {},
   "outputs": [],
   "source": [
    "#1\n",
    "desserts = \"cookies\", \"brownies\", \"cake\", \"sundaes\""
   ]
  },
  {
   "cell_type": "code",
   "execution_count": 8,
   "id": "ed820bc5-1173-40e4-a15a-34ac5523e0a9",
   "metadata": {},
   "outputs": [
    {
     "name": "stdout",
     "output_type": "stream",
     "text": [
      "4\n"
     ]
    }
   ],
   "source": [
    "#2\n",
    "print(len(desserts))"
   ]
  },
  {
   "cell_type": "code",
   "execution_count": 9,
   "id": "29a6d40c-e3f0-4168-a7d1-58ae18883b43",
   "metadata": {},
   "outputs": [
    {
     "name": "stdout",
     "output_type": "stream",
     "text": [
      "brownies\n"
     ]
    }
   ],
   "source": [
    "#3\n",
    "print(desserts[1])"
   ]
  },
  {
   "cell_type": "code",
   "execution_count": 10,
   "id": "d98f648c-438c-42af-aeec-6a1193f4cdca",
   "metadata": {},
   "outputs": [
    {
     "name": "stdout",
     "output_type": "stream",
     "text": [
      "sundaes\n"
     ]
    }
   ],
   "source": [
    "#4\n",
    "print(desserts[-1])"
   ]
  },
  {
   "cell_type": "code",
   "execution_count": 11,
   "id": "abd583d3-91f2-4b82-beb7-d4d4ccddf29b",
   "metadata": {},
   "outputs": [
    {
     "name": "stdout",
     "output_type": "stream",
     "text": [
      "('cookies', 'brownies')\n"
     ]
    }
   ],
   "source": [
    "#5\n",
    "print(desserts[0:2:1])"
   ]
  },
  {
   "cell_type": "code",
   "execution_count": 12,
   "id": "278b1cb8-f7b7-448c-b626-231fce135a1e",
   "metadata": {},
   "outputs": [
    {
     "name": "stdout",
     "output_type": "stream",
     "text": [
      "No\n"
     ]
    }
   ],
   "source": [
    "6\n",
    "item_to_check = \"pancakes\"\n",
    "\n",
    "if item_to_check in desserts:\n",
    "    print(\"Yes\")\n",
    "else:\n",
    "    print(\"No\")"
   ]
  },
  {
   "cell_type": "code",
   "execution_count": 13,
   "id": "caacacb1-eab2-48e7-a4f3-96286eaf9b84",
   "metadata": {},
   "outputs": [
    {
     "name": "stdin",
     "output_type": "stream",
     "text": [
      "What is your preferred dessert? Cakes\n"
     ]
    },
    {
     "name": "stdout",
     "output_type": "stream",
     "text": [
      "No\n"
     ]
    }
   ],
   "source": [
    "#7\n",
    "dessert_preference = input(\"What is your preferred dessert?\")\n",
    "\n",
    "if dessert_preference in desserts:\n",
    "    print(\"Yes\")\n",
    "else:\n",
    "    print(\"No\")"
   ]
  },
  {
   "cell_type": "code",
   "execution_count": 14,
   "id": "d4ef2dcc-067f-421c-a0c2-8cb25f311e59",
   "metadata": {},
   "outputs": [],
   "source": [
    "desserts= list(desserts)"
   ]
  },
  {
   "cell_type": "code",
   "execution_count": 15,
   "id": "8a59ee3a-2622-42ea-9b8f-f1508ef74c9e",
   "metadata": {},
   "outputs": [],
   "source": [
    "desserts[1] = \"fruits\"\n",
    "#print(desserts_list)"
   ]
  },
  {
   "cell_type": "code",
   "execution_count": 16,
   "id": "a9105a7c-2d78-4726-9ad2-20f0693889ca",
   "metadata": {},
   "outputs": [],
   "source": [
    "desserts = tuple(desserts)"
   ]
  },
  {
   "cell_type": "markdown",
   "id": "9ca95f76-de8f-4b16-8172-a7f285435a7d",
   "metadata": {},
   "source": [
    "Dictionaries"
   ]
  },
  {
   "cell_type": "code",
   "execution_count": 17,
   "id": "ca0749db-26d2-4e0c-8f66-5c0c6fe87bea",
   "metadata": {},
   "outputs": [],
   "source": [
    "books = { \n",
    " \"title\": \"Hamlet\", \n",
    " \"author\": \"William Shakespeare\", \n",
    " \"language\": \"English\" \n",
    "} \n"
   ]
  },
  {
   "cell_type": "code",
   "execution_count": 18,
   "id": "61ca4f31-7b9c-4f8b-a4e7-4948e62bf277",
   "metadata": {},
   "outputs": [
    {
     "name": "stdout",
     "output_type": "stream",
     "text": [
      "Hamlet\n"
     ]
    }
   ],
   "source": [
    "#1\n",
    "print(books[\"title\"])"
   ]
  },
  {
   "cell_type": "code",
   "execution_count": 19,
   "id": "5023c92f-8295-4896-89b0-b1819dd7f946",
   "metadata": {},
   "outputs": [
    {
     "name": "stdout",
     "output_type": "stream",
     "text": [
      "['title', 'author', 'language']\n"
     ]
    }
   ],
   "source": [
    "#2\n",
    "keys = []\n",
    "for key in books:\n",
    "    keys.append(key)\n",
    "print(keys)"
   ]
  },
  {
   "cell_type": "code",
   "execution_count": 20,
   "id": "83cb6663-c44b-4c5a-b083-cffa0684c4c1",
   "metadata": {},
   "outputs": [
    {
     "name": "stdout",
     "output_type": "stream",
     "text": [
      "['Hamlet', 'William Shakespeare', 'English']\n"
     ]
    }
   ],
   "source": [
    "#3\n",
    "value_list = []\n",
    "for value in books.values():\n",
    "    value_list.append(value)\n",
    "print(value_list)"
   ]
  },
  {
   "cell_type": "code",
   "execution_count": 21,
   "id": "c67753e0-a775-4fc9-9ddd-2f55754b93b3",
   "metadata": {},
   "outputs": [
    {
     "name": "stdout",
     "output_type": "stream",
     "text": [
      "['title:Hamlet', 'author:William Shakespeare', 'language:English']\n"
     ]
    }
   ],
   "source": [
    "#4\n",
    "#method1\n",
    "key_value_list = []\n",
    "for key,value in books.items():\n",
    "    key_value_list.append(f\"{key}:{value}\")\n",
    "print(key_value_list)"
   ]
  },
  {
   "cell_type": "code",
   "execution_count": 22,
   "id": "37a346fe-6b87-47e1-bad6-09468fe6a881",
   "metadata": {},
   "outputs": [
    {
     "name": "stdout",
     "output_type": "stream",
     "text": [
      "{'title': 'King Lear', 'author': 'William Shakespeare', 'language': 'English'}\n"
     ]
    }
   ],
   "source": [
    "#5\n",
    "books[\"title\"] = \"King Lear\"\n",
    "print(books)"
   ]
  },
  {
   "cell_type": "markdown",
   "id": "25658a48-dd53-486f-9934-49a0d24a9764",
   "metadata": {},
   "source": [
    "Selection"
   ]
  },
  {
   "cell_type": "code",
   "execution_count": 23,
   "id": "8a0ee1a4-6eb8-4772-ad67-0c97b444e908",
   "metadata": {},
   "outputs": [
    {
     "name": "stdin",
     "output_type": "stream",
     "text": [
      "Please enter your age: 12\n"
     ]
    }
   ],
   "source": [
    "#7 and 10\n",
    "age = int(input(\"Please enter your age:\"))\n"
   ]
  },
  {
   "cell_type": "code",
   "execution_count": 24,
   "id": "ac5770bd-5e39-4e94-bce8-31b5365162a4",
   "metadata": {},
   "outputs": [],
   "source": [
    "if age>=18:\n",
    "    print(\"You are in Category A\")\n"
   ]
  },
  {
   "cell_type": "code",
   "execution_count": 25,
   "id": "f4555e98-b910-4a2d-a06c-d3d53a5a1e27",
   "metadata": {},
   "outputs": [],
   "source": [
    "#8\n",
    "if age>=16:\n",
    "    print(\"You are in Category B\")"
   ]
  },
  {
   "cell_type": "code",
   "execution_count": 26,
   "id": "e1e17842",
   "metadata": {},
   "outputs": [
    {
     "name": "stdout",
     "output_type": "stream",
     "text": [
      "You are in Category C\n"
     ]
    }
   ],
   "source": [
    "#9\n",
    "if age<=16:\n",
    "    print(\"You are in Category C\")"
   ]
  },
  {
   "cell_type": "code",
   "execution_count": 27,
   "id": "c3147718-c64c-4bbd-ac0d-f7212be9b65c",
   "metadata": {},
   "outputs": [
    {
     "name": "stdout",
     "output_type": "stream",
     "text": [
      "You are in Category C\n"
     ]
    }
   ],
   "source": [
    "#11\n",
    "if age>=18:\n",
    "    print(\"You are in Category A\")\n",
    "elif 16<=age<18:\n",
    "    print(\"You are in Category B\")\n",
    "else:\n",
    "    print(\"You are in Category C\")"
   ]
  },
  {
   "cell_type": "markdown",
   "id": "43c8ef13-2ef6-47b2-bc35-72e6a3678d22",
   "metadata": {},
   "source": [
    "While loops"
   ]
  },
  {
   "cell_type": "code",
   "execution_count": 28,
   "id": "46e0f7ad-7ea2-4214-8ab6-13a465f7b424",
   "metadata": {},
   "outputs": [],
   "source": [
    "#2\n",
    "i=1"
   ]
  },
  {
   "cell_type": "code",
   "execution_count": 29,
   "id": "8c6c0057-0181-41b6-b0b0-0bb4b0ff70df",
   "metadata": {},
   "outputs": [
    {
     "name": "stdout",
     "output_type": "stream",
     "text": [
      "1\n",
      "4\n",
      "9\n",
      "16\n",
      "25\n",
      "36\n",
      "49\n",
      "64\n",
      "81\n",
      "100\n",
      "121\n",
      "144\n",
      "169\n",
      "196\n",
      "225\n",
      "256\n",
      "289\n",
      "324\n",
      "361\n",
      "400\n",
      "441\n",
      "484\n",
      "529\n",
      "576\n",
      "625\n",
      "676\n",
      "729\n",
      "784\n",
      "841\n",
      "900\n",
      "961\n",
      "1024\n",
      "1089\n",
      "1156\n",
      "1225\n",
      "1296\n",
      "1369\n",
      "1444\n",
      "1521\n",
      "1600\n",
      "1681\n",
      "1764\n",
      "1849\n",
      "1936\n"
     ]
    }
   ],
   "source": [
    "while i<100:\n",
    "    print(i**2)\n",
    "    i+=1\n",
    "    if i**2>2000:\n",
    "        break"
   ]
  },
  {
   "cell_type": "markdown",
   "id": "f5fca080-e392-4b28-b9e4-4a84ad047c8c",
   "metadata": {},
   "source": [
    "Investment:\n"
   ]
  },
  {
   "cell_type": "code",
   "execution_count": 33,
   "id": "9bfffbba-0678-42cd-99b6-075670c49209",
   "metadata": {},
   "outputs": [
    {
     "name": "stdout",
     "output_type": "stream",
     "text": [
      "25\n"
     ]
    }
   ],
   "source": [
    "initial_investment = 100\n",
    "target_value = 1000\n",
    "IR = 1.1\n",
    "year = 0\n",
    "\n",
    "while initial_investment<target_value:\n",
    "    initial_investment = initial_investment*(IR)\n",
    "    year+=1\n",
    "print(year)"
   ]
  },
  {
   "cell_type": "markdown",
   "id": "21e33958-a5a1-4cc2-bc46-63b2e40aa2a9",
   "metadata": {},
   "source": [
    "For loops"
   ]
  },
  {
   "cell_type": "code",
   "execution_count": 36,
   "id": "88df326a-2159-4cd2-b1e1-af65280e21d6",
   "metadata": {},
   "outputs": [],
   "source": [
    "#average\n",
    "nums = [2,67,54,9,0,4]\n",
    "nums_total = 0\n",
    "for i in range(len(nums)):\n",
    "    nums_total+=nums[i]\n",
    "average = nums_total/len(nums)"
   ]
  },
  {
   "cell_type": "code",
   "execution_count": 39,
   "id": "14bb0663-bcf1-4dd3-a75b-0556dc8f56e1",
   "metadata": {},
   "outputs": [
    {
     "name": "stdout",
     "output_type": "stream",
     "text": [
      "['Large Shirt', 'Large Jacket', 'Large Trousers', 'Medium Shirt', 'Medium Jacket', 'Medium Trousers', 'Small Shirt', 'Small Jacket', 'Small Trousers']\n"
     ]
    }
   ],
   "source": [
    "#combinations\n",
    "sizes = ['Large', 'Medium', 'Small']\n",
    "garments = ['Shirt', 'Jacket', 'Trousers']\n",
    "combinations = []\n",
    "for i in range(len(sizes)):\n",
    "    for j in range(len(garments)):\n",
    "        combinations.append(f\"{sizes[i]} {garments[j]}\")\n",
    "print(combinations)"
   ]
  },
  {
   "cell_type": "code",
   "execution_count": 45,
   "id": "a079d8e1-9417-41f7-b6b9-db7bb31d4874",
   "metadata": {},
   "outputs": [
    {
     "name": "stdin",
     "output_type": "stream",
     "text": [
      "Input a word with some capital letters please: \n"
     ]
    },
    {
     "name": "stdout",
     "output_type": "stream",
     "text": [
      "0\n"
     ]
    }
   ],
   "source": [
    "string = input(\"Input a word with some capital letters please:\")\n",
    "\n",
    "count=0\n",
    "for char in string:\n",
    "    if char == char.upper():\n",
    "        count+=1\n",
    "print(count)\n",
    "        "
   ]
  },
  {
   "cell_type": "markdown",
   "id": "b976cb58-4320-418c-8e9f-5b045619ada4",
   "metadata": {},
   "source": [
    "File Handling"
   ]
  },
  {
   "cell_type": "code",
   "execution_count": 73,
   "id": "9a4a64d4-ccf9-4a5b-9a5b-61cbbbd43bd4",
   "metadata": {},
   "outputs": [],
   "source": [
    "with open(r\"C:\\Users\\Admin\\Documents\\Course Files\\QADHPYTHON\\data\\data.txt\", 'r') as file:\n",
    "    lines = file.readlines()\n",
    "\n"
   ]
  },
  {
   "cell_type": "code",
   "execution_count": 75,
   "id": "9c339947-f88b-41ef-9e33-9bbb000fb207",
   "metadata": {},
   "outputs": [
    {
     "name": "stdout",
     "output_type": "stream",
     "text": [
      "[3, 5, -2, 11, 0, 7, 1]\n"
     ]
    }
   ],
   "source": [
    "numbers = [int(line.strip()) for line in lines]\n",
    "print(numbers)"
   ]
  },
  {
   "cell_type": "code",
   "execution_count": 80,
   "id": "51849665-24d6-45ee-a478-fedadfbaf035",
   "metadata": {},
   "outputs": [],
   "source": [
    "total = 0\n",
    "for i in range(len(numbers)):\n",
    "    total+=numbers[i]\n",
    "minimum = min(numbers)\n",
    "maximum = max(numbers)\n",
    "average = total/len(numbers)"
   ]
  },
  {
   "cell_type": "code",
   "execution_count": 83,
   "id": "3903f4ce-57bb-46b8-a1db-f53bca20aa67",
   "metadata": {},
   "outputs": [],
   "source": [
    "output = (\n",
    "    f\"Data = {numbers}\\n\"\n",
    "    f\"Total = {total}\\n\"\n",
    "    f\"Mean = {average}\\n\"\n",
    "    f\"Minimum = {minimum}\\n\"\n",
    "    f\"Maximum = {maximum}\\n\" \n",
    ")"
   ]
  },
  {
   "cell_type": "code",
   "execution_count": 84,
   "id": "d503e272-054b-42d6-95f5-c50c0e48969e",
   "metadata": {},
   "outputs": [],
   "source": [
    "with open('Output.txt', 'w') as outfile:\n",
    "    outfile.write(output)"
   ]
  },
  {
   "cell_type": "code",
   "execution_count": 85,
   "id": "515a87c4-3c81-4f57-8ffc-178d71f2a568",
   "metadata": {},
   "outputs": [],
   "source": [
    "#check this work"
   ]
  },
  {
   "cell_type": "markdown",
   "id": "b5722ad4-e2ab-44f1-9014-22fbe4681e91",
   "metadata": {},
   "source": [
    "Exercise 1: Sets"
   ]
  },
  {
   "cell_type": "code",
   "execution_count": 87,
   "id": "6b227578-8072-4bbd-818f-25549b99ea86",
   "metadata": {},
   "outputs": [
    {
     "name": "stdout",
     "output_type": "stream",
     "text": [
      "{'cherry', 'kiwi', 'grapes', 'banana', 'apple'}\n"
     ]
    }
   ],
   "source": [
    "#1 and 2\n",
    "fruit_set = {\"apple\", \"banana\", \"cherry\", \"kiwi\"}\n",
    "fruit_set.add(\"grapes\")\n",
    "print(fruit_set)"
   ]
  },
  {
   "cell_type": "code",
   "execution_count": 89,
   "id": "2537fa04-82e0-4b4a-b3a5-339fa8a791c0",
   "metadata": {},
   "outputs": [
    {
     "name": "stdout",
     "output_type": "stream",
     "text": [
      "cherry\n",
      "kiwi\n",
      "grapes\n",
      "banana\n",
      "apple\n"
     ]
    }
   ],
   "source": [
    "#3\n",
    "for i in fruit_set:\n",
    "    print(i)"
   ]
  },
  {
   "cell_type": "code",
   "execution_count": 90,
   "id": "e62b26f8-94a5-49cb-a250-2e0a9b6b3020",
   "metadata": {},
   "outputs": [],
   "source": [
    "#4\n",
    "s1 = {'A', 'B', 'C', 'D', 'E'}\n",
    "s2 = {'D', 'E', 'F', 'G'}"
   ]
  },
  {
   "cell_type": "code",
   "execution_count": 92,
   "id": "4e00fac4-3411-41f2-8c76-209ad2ae0b34",
   "metadata": {},
   "outputs": [
    {
     "name": "stdout",
     "output_type": "stream",
     "text": [
      "{'E', 'G', 'C', 'D', 'B', 'F', 'A'}\n"
     ]
    }
   ],
   "source": [
    "#5\n",
    "s3 = s1|(s2)\n",
    "print(s3)"
   ]
  },
  {
   "cell_type": "code",
   "execution_count": 96,
   "id": "7a532f01-6726-4e60-b774-61ce8547305a",
   "metadata": {},
   "outputs": [
    {
     "name": "stdout",
     "output_type": "stream",
     "text": [
      "{'D', 'E'}\n"
     ]
    }
   ],
   "source": [
    "#6\n",
    "s3 = s1.intersection(s2)\n",
    "print(s3)"
   ]
  },
  {
   "cell_type": "code",
   "execution_count": 97,
   "id": "4cd94144-3916-45ca-95fc-a73805321a0f",
   "metadata": {},
   "outputs": [
    {
     "name": "stdout",
     "output_type": "stream",
     "text": [
      "{'A', 'C', 'B'}\n"
     ]
    }
   ],
   "source": [
    "#7\n",
    "s3 = s1.difference(s2)\n",
    "print(s3)"
   ]
  },
  {
   "cell_type": "code",
   "execution_count": 99,
   "id": "95d6302b-6483-41fb-92c3-1fa4dff18f0e",
   "metadata": {},
   "outputs": [
    {
     "name": "stdout",
     "output_type": "stream",
     "text": [
      "{'G', 'C', 'B', 'F', 'A'}\n"
     ]
    }
   ],
   "source": [
    "#8\n",
    "s3 = s1.symmetric_difference(s2)\n",
    "print(s3)"
   ]
  },
  {
   "cell_type": "markdown",
   "id": "62f51dbe-4d78-431e-90e2-9a957d0099c5",
   "metadata": {},
   "source": [
    "Functions\n"
   ]
  },
  {
   "cell_type": "code",
   "execution_count": 100,
   "id": "1e9802f5-b768-46a6-8b1a-11ff1250a45b",
   "metadata": {},
   "outputs": [],
   "source": [
    "def sequence_check(seq_1, seq_2):\n",
    "    for i in seq_1:\n",
    "        if i not in seq_2:\n",
    "            return False\n",
    "    return True\n",
    "\n",
    "seq_a={'A', 'B', 'C'}\n",
    "seq_a = {'A', 'B','D'}\n",
    "\n",
    "sequence_check(seq_a, seq_b)"
   ]
  },
  {
   "cell_type": "markdown",
   "id": "471ddeea-2632-4130-b7b2-65bcb0fcb952",
   "metadata": {},
   "source": [
    "Exercise 3 = definitely return to"
   ]
  },
  {
   "cell_type": "code",
   "execution_count": 105,
   "id": "924002b8-b604-49ea-b740-ed8a86cb9f08",
   "metadata": {},
   "outputs": [],
   "source": [
    "import numpy as np\n",
    "n=100\n",
    "e_values = [np.random.randn() for i in range(n)]"
   ]
  },
  {
   "cell_type": "markdown",
   "id": "8290da69-c2e8-45a5-a89c-4af2292fc313",
   "metadata": {},
   "source": [
    "Exercise 4"
   ]
  },
  {
   "cell_type": "markdown",
   "id": "9da1587e-1b07-408b-b677-92480755752d",
   "metadata": {},
   "source": [
    "Exercise 5"
   ]
  },
  {
   "cell_type": "code",
   "execution_count": 107,
   "id": "d300b155-8429-4c52-bcf1-d8b4540b1837",
   "metadata": {},
   "outputs": [
    {
     "data": {
      "text/plain": [
       "['__add__',\n",
       " '__class__',\n",
       " '__class_getitem__',\n",
       " '__contains__',\n",
       " '__delattr__',\n",
       " '__delitem__',\n",
       " '__dir__',\n",
       " '__doc__',\n",
       " '__eq__',\n",
       " '__format__',\n",
       " '__ge__',\n",
       " '__getattribute__',\n",
       " '__getitem__',\n",
       " '__getstate__',\n",
       " '__gt__',\n",
       " '__hash__',\n",
       " '__iadd__',\n",
       " '__imul__',\n",
       " '__init__',\n",
       " '__init_subclass__',\n",
       " '__iter__',\n",
       " '__le__',\n",
       " '__len__',\n",
       " '__lt__',\n",
       " '__mul__',\n",
       " '__ne__',\n",
       " '__new__',\n",
       " '__reduce__',\n",
       " '__reduce_ex__',\n",
       " '__repr__',\n",
       " '__reversed__',\n",
       " '__rmul__',\n",
       " '__setattr__',\n",
       " '__setitem__',\n",
       " '__sizeof__',\n",
       " '__str__',\n",
       " '__subclasshook__',\n",
       " 'append',\n",
       " 'clear',\n",
       " 'copy',\n",
       " 'count',\n",
       " 'extend',\n",
       " 'index',\n",
       " 'insert',\n",
       " 'pop',\n",
       " 'remove',\n",
       " 'reverse',\n",
       " 'sort']"
      ]
     },
     "execution_count": 107,
     "metadata": {},
     "output_type": "execute_result"
    }
   ],
   "source": [
    "dir(list)"
   ]
  },
  {
   "cell_type": "code",
   "execution_count": null,
   "id": "4554b057-3d70-4ec8-ae3e-c93845ebe4f9",
   "metadata": {},
   "outputs": [],
   "source": [
    "globals()"
   ]
  }
 ],
 "metadata": {
  "kernelspec": {
   "display_name": "Python 3 (ipykernel)",
   "language": "python",
   "name": "python3"
  },
  "language_info": {
   "codemirror_mode": {
    "name": "ipython",
    "version": 3
   },
   "file_extension": ".py",
   "mimetype": "text/x-python",
   "name": "python",
   "nbconvert_exporter": "python",
   "pygments_lexer": "ipython3",
   "version": "3.11.9"
  }
 },
 "nbformat": 4,
 "nbformat_minor": 5
}
