{
 "cells": [
  {
   "cell_type": "markdown",
   "id": "67fcaf05-6f23-4656-8cef-48e51c0c3a9e",
   "metadata": {},
   "source": [
    "Display Hello World"
   ]
  },
  {
   "cell_type": "code",
   "execution_count": 2,
   "id": "af58a6a7-a62c-4037-8783-df9eaeba98db",
   "metadata": {},
   "outputs": [
    {
     "name": "stdout",
     "output_type": "stream",
     "text": [
      "Hello World!\n"
     ]
    }
   ],
   "source": [
    "print(\"Hello World!\")"
   ]
  },
  {
   "cell_type": "markdown",
   "id": "a592f94a-0a50-4604-8189-b5ee18f75117",
   "metadata": {},
   "source": [
    "Display a message using variables"
   ]
  },
  {
   "cell_type": "code",
   "execution_count": 3,
   "id": "dfde5485-1e82-4eee-86ae-b2137f4d3e7d",
   "metadata": {},
   "outputs": [],
   "source": [
    "username = 'Bob'\n",
    "age = 32"
   ]
  },
  {
   "cell_type": "code",
   "execution_count": 4,
   "id": "be4f7a94-c6f5-4eac-bfbe-64d0e1afce38",
   "metadata": {},
   "outputs": [
    {
     "name": "stdout",
     "output_type": "stream",
     "text": [
      "Bob is 32 years old\n"
     ]
    }
   ],
   "source": [
    "print(username,'is',age,'years old')\n",
    "print(username+'is'+str(age)+'years old') # we notice this sticks together every word separated by an +\n",
    "print(f\"{username} is {age} years old\") #use of f string"
   ]
  },
  {
   "cell_type": "markdown",
   "id": "5f0f4384-eb54-4bef-8aa5-ecd95444548c",
   "metadata": {},
   "source": [
    "Get User Input"
   ]
  },
  {
   "cell_type": "code",
   "execution_count": 7,
   "id": "934222f0-52fb-433e-aa4a-b58a41bd58ae",
   "metadata": {},
   "outputs": [
    {
     "name": "stdin",
     "output_type": "stream",
     "text": [
      "Please enter your name: Drashti\n",
      "Please enter your age: 25\n"
     ]
    },
    {
     "name": "stdout",
     "output_type": "stream",
     "text": [
      "Drashti is 25 years old\n"
     ]
    }
   ],
   "source": [
    "username = input(\"Please enter your name:\")\n",
    "age = input(\"Please enter your age:\")\n",
    "print(username, 'is', age, 'years old')"
   ]
  },
  {
   "cell_type": "markdown",
   "id": "b69ecdb6-e9bd-4299-9a1a-e862759f7799",
   "metadata": {},
   "source": [
    "Arithmetic Operations"
   ]
  },
  {
   "cell_type": "code",
   "execution_count": 8,
   "id": "b6af5d20-283a-4d11-bc7c-7898eb186e9a",
   "metadata": {},
   "outputs": [
    {
     "name": "stdout",
     "output_type": "stream",
     "text": [
      "8\n"
     ]
    }
   ],
   "source": [
    "crayons = 50\n",
    "children = 6\n",
    "#crayons_per_child = crayons/children gives floating answ\n",
    "crayons_per_child = crayons//children\n",
    "print(crayons_per_child)"
   ]
  },
  {
   "cell_type": "markdown",
   "id": "1416b832-76d8-48f5-8787-53a72304ec14",
   "metadata": {},
   "source": [
    "Casting Variables"
   ]
  },
  {
   "cell_type": "code",
   "execution_count": 9,
   "id": "7b786974-0b8c-489e-b39f-be5ac027c833",
   "metadata": {},
   "outputs": [
    {
     "name": "stdin",
     "output_type": "stream",
     "text": [
      "Please enter the legnth of the rectangle: 15\n",
      "Please enter the width of the rectangle: 17\n"
     ]
    },
    {
     "name": "stdout",
     "output_type": "stream",
     "text": [
      "Perimeter of Rectangle: 64\n"
     ]
    }
   ],
   "source": [
    "length = int(input(\"Please enter the legnth of the rectangle:\"))\n",
    "width =int(input(\"Please enter the width of the rectangle:\"))\n",
    "perimeter = (length+width)*2\n",
    "print(f\"Perimeter of Rectangle: {perimeter}\")"
   ]
  },
  {
   "cell_type": "markdown",
   "id": "51246c2d-84c1-4dd4-8fe0-0805fbc90e11",
   "metadata": {},
   "source": [
    "Extension Activities"
   ]
  },
  {
   "cell_type": "code",
   "execution_count": 13,
   "id": "91318f45-7087-4fc8-9f93-d14657b16074",
   "metadata": {},
   "outputs": [
    {
     "name": "stdin",
     "output_type": "stream",
     "text": [
      "What do you need change from?£ 0.05\n"
     ]
    },
    {
     "name": "stdout",
     "output_type": "stream",
     "text": [
      "Your change is:0 of £50\n",
      "Your change is:0 of £20\n",
      "Your change is:0 of £10\n",
      "Your change is:0 of £2\n",
      "Your change is:0 of £1\n",
      "Your change is:0 of £0.5\n",
      "Your change is:0 of £0.2\n",
      "Your change is:0 of £0.1\n",
      "Your change is:1 of £0.05\n"
     ]
    }
   ],
   "source": [
    "denoms= [50,20,10,2,1,0.5,0.2,0.1,0.05,0.02,0.01]\n",
    "amount = float(input(\"What do you need change from?£\"))\n",
    "\n",
    "numbers = []\n",
    "for denom in denoms:\n",
    "    numbers.append(int(amount//denom))\n",
    "    if amount%denom==0:\n",
    "        break\n",
    "    else:\n",
    "        amount = round(amount%denom, 2)\n",
    "for num, denom in zip(numbers, denoms):\n",
    "    print(f\"Your change is:{num} of £{denom}\")"
   ]
  }
 ],
 "metadata": {
  "kernelspec": {
   "display_name": "Python 3 (ipykernel)",
   "language": "python",
   "name": "python3"
  },
  "language_info": {
   "codemirror_mode": {
    "name": "ipython",
    "version": 3
   },
   "file_extension": ".py",
   "mimetype": "text/x-python",
   "name": "python",
   "nbconvert_exporter": "python",
   "pygments_lexer": "ipython3",
   "version": "3.11.9"
  }
 },
 "nbformat": 4,
 "nbformat_minor": 5
}
