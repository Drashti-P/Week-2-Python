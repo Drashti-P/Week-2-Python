{
 "cells": [
  {
   "cell_type": "code",
   "execution_count": 1,
   "id": "1f53be19-f9bf-4daa-b2fa-fc572f84741f",
   "metadata": {},
   "outputs": [],
   "source": [
    "import pandas as pd\n",
    "nums = [10,20,30,40]"
   ]
  },
  {
   "cell_type": "code",
   "execution_count": 2,
   "id": "f35c0bff-f191-4e37-b32c-c0a5a30b93ef",
   "metadata": {},
   "outputs": [],
   "source": [
    "my_series =pd.Series(nums, index = [\"A\", \"B\", \"C\", \"D\"])"
   ]
  },
  {
   "cell_type": "code",
   "execution_count": 3,
   "id": "68b3ec69-d7f5-4356-a0da-f4029affdc1c",
   "metadata": {},
   "outputs": [
    {
     "data": {
      "text/plain": [
       "np.int64(10)"
      ]
     },
     "execution_count": 3,
     "metadata": {},
     "output_type": "execute_result"
    }
   ],
   "source": [
    "#to select data, select via indices:\n",
    "my_series[\"A\"]"
   ]
  },
  {
   "cell_type": "code",
   "execution_count": 4,
   "id": "1460e62b-7fd5-4cfa-8c8f-b9739e230d82",
   "metadata": {},
   "outputs": [
    {
     "data": {
      "text/plain": [
       "np.int64(20)"
      ]
     },
     "execution_count": 4,
     "metadata": {},
     "output_type": "execute_result"
    }
   ],
   "source": [
    "#select by index\n",
    "my_series.loc[\"B\"]"
   ]
  },
  {
   "cell_type": "code",
   "execution_count": 5,
   "id": "21f6a64f-bfe8-4bc9-96df-58cfd7ea79fd",
   "metadata": {},
   "outputs": [
    {
     "data": {
      "text/plain": [
       "np.int64(10)"
      ]
     },
     "execution_count": 5,
     "metadata": {},
     "output_type": "execute_result"
    }
   ],
   "source": [
    "#select by integer location\n",
    "my_series.iloc[0]"
   ]
  },
  {
   "cell_type": "code",
   "execution_count": 6,
   "id": "00a35ba8-bf76-4d01-a083-12515cefe237",
   "metadata": {},
   "outputs": [],
   "source": [
    "### Dataframes"
   ]
  },
  {
   "cell_type": "code",
   "execution_count": 7,
   "id": "911a8cff-3b1e-4452-92f2-486ab6722c14",
   "metadata": {},
   "outputs": [],
   "source": [
    "data = {\"age\": [34, 42, 27],\n",
    "    \"height\": [1.78, 1.82, 1.75],\n",
    "    \"weight\": [75, 80, 70]\n",
    "}"
   ]
  },
  {
   "cell_type": "code",
   "execution_count": 8,
   "id": "6c249800-8ff2-4415-8886-414d55922cf7",
   "metadata": {},
   "outputs": [
    {
     "data": {
      "text/html": [
       "<div>\n",
       "<style scoped>\n",
       "    .dataframe tbody tr th:only-of-type {\n",
       "        vertical-align: middle;\n",
       "    }\n",
       "\n",
       "    .dataframe tbody tr th {\n",
       "        vertical-align: top;\n",
       "    }\n",
       "\n",
       "    .dataframe thead th {\n",
       "        text-align: right;\n",
       "    }\n",
       "</style>\n",
       "<table border=\"1\" class=\"dataframe\">\n",
       "  <thead>\n",
       "    <tr style=\"text-align: right;\">\n",
       "      <th></th>\n",
       "      <th>age</th>\n",
       "      <th>height</th>\n",
       "      <th>weight</th>\n",
       "    </tr>\n",
       "  </thead>\n",
       "  <tbody>\n",
       "    <tr>\n",
       "      <th>0</th>\n",
       "      <td>34</td>\n",
       "      <td>1.78</td>\n",
       "      <td>75</td>\n",
       "    </tr>\n",
       "    <tr>\n",
       "      <th>1</th>\n",
       "      <td>42</td>\n",
       "      <td>1.82</td>\n",
       "      <td>80</td>\n",
       "    </tr>\n",
       "    <tr>\n",
       "      <th>2</th>\n",
       "      <td>27</td>\n",
       "      <td>1.75</td>\n",
       "      <td>70</td>\n",
       "    </tr>\n",
       "  </tbody>\n",
       "</table>\n",
       "</div>"
      ],
      "text/plain": [
       "   age  height  weight\n",
       "0   34    1.78      75\n",
       "1   42    1.82      80\n",
       "2   27    1.75      70"
      ]
     },
     "execution_count": 8,
     "metadata": {},
     "output_type": "execute_result"
    }
   ],
   "source": [
    "df = pd.DataFrame(data)\n",
    "df"
   ]
  },
  {
   "cell_type": "code",
   "execution_count": 9,
   "id": "58662b20-5dad-4818-a272-14c3ee03e865",
   "metadata": {},
   "outputs": [
    {
     "data": {
      "text/plain": [
       "0    34\n",
       "1    42\n",
       "2    27\n",
       "Name: age, dtype: int64"
      ]
     },
     "execution_count": 9,
     "metadata": {},
     "output_type": "execute_result"
    }
   ],
   "source": [
    "df[\"age\"]"
   ]
  },
  {
   "cell_type": "code",
   "execution_count": 10,
   "id": "7bcdb42f-57cb-46a1-816b-82a64add7912",
   "metadata": {},
   "outputs": [
    {
     "data": {
      "text/html": [
       "<div>\n",
       "<style scoped>\n",
       "    .dataframe tbody tr th:only-of-type {\n",
       "        vertical-align: middle;\n",
       "    }\n",
       "\n",
       "    .dataframe tbody tr th {\n",
       "        vertical-align: top;\n",
       "    }\n",
       "\n",
       "    .dataframe thead th {\n",
       "        text-align: right;\n",
       "    }\n",
       "</style>\n",
       "<table border=\"1\" class=\"dataframe\">\n",
       "  <thead>\n",
       "    <tr style=\"text-align: right;\">\n",
       "      <th></th>\n",
       "      <th>ID</th>\n",
       "      <th>Income</th>\n",
       "      <th>Term</th>\n",
       "      <th>Balance</th>\n",
       "      <th>Debt</th>\n",
       "      <th>Score</th>\n",
       "      <th>Default</th>\n",
       "    </tr>\n",
       "  </thead>\n",
       "  <tbody>\n",
       "    <tr>\n",
       "      <th>0</th>\n",
       "      <td>567</td>\n",
       "      <td>17500</td>\n",
       "      <td>Short Term</td>\n",
       "      <td>1460</td>\n",
       "      <td>272</td>\n",
       "      <td>225.0</td>\n",
       "      <td>False</td>\n",
       "    </tr>\n",
       "    <tr>\n",
       "      <th>1</th>\n",
       "      <td>523</td>\n",
       "      <td>18500</td>\n",
       "      <td>Long Term</td>\n",
       "      <td>890</td>\n",
       "      <td>970</td>\n",
       "      <td>187.0</td>\n",
       "      <td>False</td>\n",
       "    </tr>\n",
       "  </tbody>\n",
       "</table>\n",
       "</div>"
      ],
      "text/plain": [
       "    ID  Income        Term  Balance  Debt  Score  Default\n",
       "0  567   17500  Short Term     1460   272  225.0    False\n",
       "1  523   18500   Long Term      890   970  187.0    False"
      ]
     },
     "execution_count": 10,
     "metadata": {},
     "output_type": "execute_result"
    }
   ],
   "source": [
    "df = pd.read_csv(r\"C:\\Users\\Admin\\Documents\\Course Files\\QADHPYTHON\\data\\loan_data.csv\")\n",
    "\n",
    "#show first two rows:\n",
    "\n",
    "df[0:2:1] #also use [:2]"
   ]
  },
  {
   "cell_type": "code",
   "execution_count": 11,
   "id": "2e202d52-b1c2-4432-af0b-91486563e67b",
   "metadata": {},
   "outputs": [],
   "source": [
    "df_ex = pd.read_excel(r\"C:\\Users\\Admin\\Documents\\Course Files\\QADHPYTHON\\data\\loan_data.xlsx\", sheet_name = \"March\")"
   ]
  },
  {
   "cell_type": "code",
   "execution_count": 12,
   "id": "ed54aab2-c2b1-4e4d-837c-7030d5625deb",
   "metadata": {},
   "outputs": [
    {
     "data": {
      "text/html": [
       "<div>\n",
       "<style scoped>\n",
       "    .dataframe tbody tr th:only-of-type {\n",
       "        vertical-align: middle;\n",
       "    }\n",
       "\n",
       "    .dataframe tbody tr th {\n",
       "        vertical-align: top;\n",
       "    }\n",
       "\n",
       "    .dataframe thead th {\n",
       "        text-align: right;\n",
       "    }\n",
       "</style>\n",
       "<table border=\"1\" class=\"dataframe\">\n",
       "  <thead>\n",
       "    <tr style=\"text-align: right;\">\n",
       "      <th></th>\n",
       "      <th>ID</th>\n",
       "      <th>Income</th>\n",
       "      <th>Term</th>\n",
       "      <th>Balance</th>\n",
       "      <th>Debt</th>\n",
       "      <th>Score</th>\n",
       "      <th>Default</th>\n",
       "    </tr>\n",
       "  </thead>\n",
       "  <tbody>\n",
       "    <tr>\n",
       "      <th>0</th>\n",
       "      <td>567</td>\n",
       "      <td>17500</td>\n",
       "      <td>Short Term</td>\n",
       "      <td>1460</td>\n",
       "      <td>272</td>\n",
       "      <td>225.0</td>\n",
       "      <td>False</td>\n",
       "    </tr>\n",
       "    <tr>\n",
       "      <th>1</th>\n",
       "      <td>523</td>\n",
       "      <td>18500</td>\n",
       "      <td>Long Term</td>\n",
       "      <td>890</td>\n",
       "      <td>970</td>\n",
       "      <td>187.0</td>\n",
       "      <td>False</td>\n",
       "    </tr>\n",
       "    <tr>\n",
       "      <th>2</th>\n",
       "      <td>544</td>\n",
       "      <td>20700</td>\n",
       "      <td>Short Term</td>\n",
       "      <td>880</td>\n",
       "      <td>884</td>\n",
       "      <td>85.0</td>\n",
       "      <td>False</td>\n",
       "    </tr>\n",
       "    <tr>\n",
       "      <th>3</th>\n",
       "      <td>370</td>\n",
       "      <td>21600</td>\n",
       "      <td>Short Term</td>\n",
       "      <td>920</td>\n",
       "      <td>0</td>\n",
       "      <td>NaN</td>\n",
       "      <td>False</td>\n",
       "    </tr>\n",
       "    <tr>\n",
       "      <th>4</th>\n",
       "      <td>756</td>\n",
       "      <td>24300</td>\n",
       "      <td>Short Term</td>\n",
       "      <td>1260</td>\n",
       "      <td>0</td>\n",
       "      <td>495.0</td>\n",
       "      <td>False</td>\n",
       "    </tr>\n",
       "  </tbody>\n",
       "</table>\n",
       "</div>"
      ],
      "text/plain": [
       "    ID  Income        Term  Balance  Debt  Score  Default\n",
       "0  567   17500  Short Term     1460   272  225.0    False\n",
       "1  523   18500   Long Term      890   970  187.0    False\n",
       "2  544   20700  Short Term      880   884   85.0    False\n",
       "3  370   21600  Short Term      920     0    NaN    False\n",
       "4  756   24300  Short Term     1260     0  495.0    False"
      ]
     },
     "execution_count": 12,
     "metadata": {},
     "output_type": "execute_result"
    }
   ],
   "source": [
    "df_ex.head()"
   ]
  },
  {
   "cell_type": "code",
   "execution_count": 13,
   "id": "f3b323dd-b312-4ff4-9272-cb4b348da561",
   "metadata": {},
   "outputs": [],
   "source": [
    "weather = pd.read_json(r\"C:\\Users\\Admin\\Documents\\Course Files\\QADHPYTHON\\data\\weather_data.json\", convert_dates = False)"
   ]
  },
  {
   "cell_type": "code",
   "execution_count": 14,
   "id": "1d4ecaed-a99d-42e2-9c3e-331301b84c9f",
   "metadata": {},
   "outputs": [
    {
     "data": {
      "text/plain": [
       "day          object\n",
       "temp        float64\n",
       "humidity    float64\n",
       "sun_hrs     float64\n",
       "dtype: object"
      ]
     },
     "execution_count": 14,
     "metadata": {},
     "output_type": "execute_result"
    }
   ],
   "source": [
    "weather[0:11:1]\n",
    "weather.dtypes"
   ]
  },
  {
   "cell_type": "code",
   "execution_count": 15,
   "id": "290da13a-830a-4b49-a5f9-3bf07d15de42",
   "metadata": {},
   "outputs": [],
   "source": [
    "import sqlite3"
   ]
  },
  {
   "cell_type": "code",
   "execution_count": 16,
   "id": "6c82479f-cc3a-4125-9b92-a8ad9e8485f8",
   "metadata": {},
   "outputs": [
    {
     "name": "stdout",
     "output_type": "stream",
     "text": [
      "   id                             name  year  rating\n",
      "0   1  Who's Afraid of Virginia Woolf?  1966      10\n",
      "1   2                           Zardoz  1974       6\n",
      "2   3            2001: A Space Odyssey  1968       9\n"
     ]
    }
   ],
   "source": [
    "db_conn = sqlite3.connect(\"data/movies_db.sqlite\")  \n",
    "movies = pd.read_sql(\"SELECT * FROM movies\", db_conn)  \n",
    "\n",
    "print(movies) "
   ]
  },
  {
   "cell_type": "code",
   "execution_count": 17,
   "id": "322d99cf-3b76-400f-97b4-e5e924d6f442",
   "metadata": {},
   "outputs": [],
   "source": [
    "### exploring dataframes"
   ]
  },
  {
   "cell_type": "code",
   "execution_count": 18,
   "id": "671c7c86-d817-4de9-9447-5abc5a7a1808",
   "metadata": {},
   "outputs": [
    {
     "name": "stdout",
     "output_type": "stream",
     "text": [
      "<class 'pandas.core.frame.DataFrame'>\n",
      "RangeIndex: 856 entries, 0 to 855\n",
      "Data columns (total 7 columns):\n",
      " #   Column   Non-Null Count  Dtype  \n",
      "---  ------   --------------  -----  \n",
      " 0   ID       856 non-null    int64  \n",
      " 1   Income   856 non-null    int64  \n",
      " 2   Term     856 non-null    object \n",
      " 3   Balance  856 non-null    int64  \n",
      " 4   Debt     856 non-null    int64  \n",
      " 5   Score    836 non-null    float64\n",
      " 6   Default  856 non-null    bool   \n",
      "dtypes: bool(1), float64(1), int64(4), object(1)\n",
      "memory usage: 41.1+ KB\n"
     ]
    }
   ],
   "source": [
    "df.info()"
   ]
  },
  {
   "cell_type": "code",
   "execution_count": 19,
   "id": "216a3202-6d73-49a7-91b1-1001a0ce8102",
   "metadata": {},
   "outputs": [
    {
     "data": {
      "text/html": [
       "<div>\n",
       "<style scoped>\n",
       "    .dataframe tbody tr th:only-of-type {\n",
       "        vertical-align: middle;\n",
       "    }\n",
       "\n",
       "    .dataframe tbody tr th {\n",
       "        vertical-align: top;\n",
       "    }\n",
       "\n",
       "    .dataframe thead th {\n",
       "        text-align: right;\n",
       "    }\n",
       "</style>\n",
       "<table border=\"1\" class=\"dataframe\">\n",
       "  <thead>\n",
       "    <tr style=\"text-align: right;\">\n",
       "      <th></th>\n",
       "      <th>ID</th>\n",
       "      <th>Income</th>\n",
       "      <th>Balance</th>\n",
       "      <th>Debt</th>\n",
       "      <th>Score</th>\n",
       "    </tr>\n",
       "  </thead>\n",
       "  <tbody>\n",
       "    <tr>\n",
       "      <th>count</th>\n",
       "      <td>856.00</td>\n",
       "      <td>856.00</td>\n",
       "      <td>856.00</td>\n",
       "      <td>856.00</td>\n",
       "      <td>836.00</td>\n",
       "    </tr>\n",
       "    <tr>\n",
       "      <th>mean</th>\n",
       "      <td>496.81</td>\n",
       "      <td>29882.01</td>\n",
       "      <td>1214.33</td>\n",
       "      <td>643.79</td>\n",
       "      <td>450.92</td>\n",
       "    </tr>\n",
       "    <tr>\n",
       "      <th>std</th>\n",
       "      <td>288.49</td>\n",
       "      <td>13976.26</td>\n",
       "      <td>587.76</td>\n",
       "      <td>1150.29</td>\n",
       "      <td>269.21</td>\n",
       "    </tr>\n",
       "    <tr>\n",
       "      <th>min</th>\n",
       "      <td>1.00</td>\n",
       "      <td>11800.00</td>\n",
       "      <td>140.00</td>\n",
       "      <td>0.00</td>\n",
       "      <td>0.00</td>\n",
       "    </tr>\n",
       "    <tr>\n",
       "      <th>25%</th>\n",
       "      <td>245.50</td>\n",
       "      <td>19800.00</td>\n",
       "      <td>910.00</td>\n",
       "      <td>0.00</td>\n",
       "      <td>242.75</td>\n",
       "    </tr>\n",
       "    <tr>\n",
       "      <th>50%</th>\n",
       "      <td>494.50</td>\n",
       "      <td>22900.00</td>\n",
       "      <td>1120.00</td>\n",
       "      <td>65.00</td>\n",
       "      <td>376.50</td>\n",
       "    </tr>\n",
       "    <tr>\n",
       "      <th>75%</th>\n",
       "      <td>747.25</td>\n",
       "      <td>39025.00</td>\n",
       "      <td>1370.00</td>\n",
       "      <td>958.75</td>\n",
       "      <td>647.25</td>\n",
       "    </tr>\n",
       "    <tr>\n",
       "      <th>max</th>\n",
       "      <td>1000.00</td>\n",
       "      <td>86000.00</td>\n",
       "      <td>6020.00</td>\n",
       "      <td>12891.00</td>\n",
       "      <td>1000.00</td>\n",
       "    </tr>\n",
       "  </tbody>\n",
       "</table>\n",
       "</div>"
      ],
      "text/plain": [
       "            ID    Income  Balance      Debt    Score\n",
       "count   856.00    856.00   856.00    856.00   836.00\n",
       "mean    496.81  29882.01  1214.33    643.79   450.92\n",
       "std     288.49  13976.26   587.76   1150.29   269.21\n",
       "min       1.00  11800.00   140.00      0.00     0.00\n",
       "25%     245.50  19800.00   910.00      0.00   242.75\n",
       "50%     494.50  22900.00  1120.00     65.00   376.50\n",
       "75%     747.25  39025.00  1370.00    958.75   647.25\n",
       "max    1000.00  86000.00  6020.00  12891.00  1000.00"
      ]
     },
     "execution_count": 19,
     "metadata": {},
     "output_type": "execute_result"
    }
   ],
   "source": [
    "df.describe().round(2)"
   ]
  },
  {
   "cell_type": "code",
   "execution_count": 20,
   "id": "24c7c230-dd05-4a6b-a4a8-bdd3e2342f5b",
   "metadata": {},
   "outputs": [],
   "source": [
    "#changing type of column\n",
    "\n",
    "df[\"ID\"]= df[\"ID\"].astype('string')"
   ]
  },
  {
   "cell_type": "code",
   "execution_count": 21,
   "id": "466d7f0f-6abb-4f8e-91a2-84c320c71c3e",
   "metadata": {},
   "outputs": [
    {
     "data": {
      "text/plain": [
       "<bound method DataFrame.info of       ID  Income        Term  Balance  Debt  Score  Default\n",
       "0    567   17500  Short Term     1460   272  225.0    False\n",
       "1    523   18500   Long Term      890   970  187.0    False\n",
       "2    544   20700  Short Term      880   884   85.0    False\n",
       "3    370   21600  Short Term      920     0    NaN    False\n",
       "4    756   24300  Short Term     1260     0  495.0    False\n",
       "..   ...     ...         ...      ...   ...    ...      ...\n",
       "851   71   30000   Long Term     1270  3779   52.0     True\n",
       "852  932   42500   Long Term     1550     0  779.0    False\n",
       "853   39   36400   Long Term     1830  3032  360.0     True\n",
       "854  283   42200   Long Term     1500  2498  417.0    False\n",
       "855  847   30800   Long Term     1190  2355  177.0     True\n",
       "\n",
       "[856 rows x 7 columns]>"
      ]
     },
     "execution_count": 21,
     "metadata": {},
     "output_type": "execute_result"
    }
   ],
   "source": [
    "df.info"
   ]
  },
  {
   "cell_type": "code",
   "execution_count": 22,
   "id": "09b02bc7-1c50-4c35-8815-3faeaf475b57",
   "metadata": {},
   "outputs": [
    {
     "data": {
      "text/plain": [
       "<bound method DataFrame.info of           day   temp  humidity  sun_hrs\n",
       "0  2023-07-15  15.68     73.18     6.40\n",
       "1  2023-07-16  25.16     83.88     8.06\n",
       "2  2023-07-17  13.26     80.05     4.89\n",
       "3  2023-07-18  24.63     82.37     9.13\n",
       "4  2023-07-19  12.78     83.10    17.10\n",
       "5  2023-07-20  23.52     85.35     0.72\n",
       "6  2023-07-21  17.80     85.64     5.79\n",
       "7  2023-07-22  24.98     76.81    10.95\n",
       "8  2023-07-23  23.48     80.86     3.77\n",
       "9  2023-07-24  23.30     79.96    14.62>"
      ]
     },
     "execution_count": 22,
     "metadata": {},
     "output_type": "execute_result"
    }
   ],
   "source": [
    "weather.info"
   ]
  },
  {
   "cell_type": "code",
   "execution_count": 23,
   "id": "952d4cba-5d7c-4b4d-a013-19db90700f23",
   "metadata": {},
   "outputs": [
    {
     "data": {
      "text/html": [
       "<div>\n",
       "<style scoped>\n",
       "    .dataframe tbody tr th:only-of-type {\n",
       "        vertical-align: middle;\n",
       "    }\n",
       "\n",
       "    .dataframe tbody tr th {\n",
       "        vertical-align: top;\n",
       "    }\n",
       "\n",
       "    .dataframe thead th {\n",
       "        text-align: right;\n",
       "    }\n",
       "</style>\n",
       "<table border=\"1\" class=\"dataframe\">\n",
       "  <thead>\n",
       "    <tr style=\"text-align: right;\">\n",
       "      <th></th>\n",
       "      <th>ID</th>\n",
       "      <th>Balance</th>\n",
       "    </tr>\n",
       "  </thead>\n",
       "  <tbody>\n",
       "    <tr>\n",
       "      <th>0</th>\n",
       "      <td>567</td>\n",
       "      <td>1460</td>\n",
       "    </tr>\n",
       "    <tr>\n",
       "      <th>1</th>\n",
       "      <td>523</td>\n",
       "      <td>890</td>\n",
       "    </tr>\n",
       "    <tr>\n",
       "      <th>2</th>\n",
       "      <td>544</td>\n",
       "      <td>880</td>\n",
       "    </tr>\n",
       "    <tr>\n",
       "      <th>3</th>\n",
       "      <td>370</td>\n",
       "      <td>920</td>\n",
       "    </tr>\n",
       "    <tr>\n",
       "      <th>4</th>\n",
       "      <td>756</td>\n",
       "      <td>1260</td>\n",
       "    </tr>\n",
       "    <tr>\n",
       "      <th>...</th>\n",
       "      <td>...</td>\n",
       "      <td>...</td>\n",
       "    </tr>\n",
       "    <tr>\n",
       "      <th>851</th>\n",
       "      <td>71</td>\n",
       "      <td>1270</td>\n",
       "    </tr>\n",
       "    <tr>\n",
       "      <th>852</th>\n",
       "      <td>932</td>\n",
       "      <td>1550</td>\n",
       "    </tr>\n",
       "    <tr>\n",
       "      <th>853</th>\n",
       "      <td>39</td>\n",
       "      <td>1830</td>\n",
       "    </tr>\n",
       "    <tr>\n",
       "      <th>854</th>\n",
       "      <td>283</td>\n",
       "      <td>1500</td>\n",
       "    </tr>\n",
       "    <tr>\n",
       "      <th>855</th>\n",
       "      <td>847</td>\n",
       "      <td>1190</td>\n",
       "    </tr>\n",
       "  </tbody>\n",
       "</table>\n",
       "<p>856 rows × 2 columns</p>\n",
       "</div>"
      ],
      "text/plain": [
       "      ID  Balance\n",
       "0    567     1460\n",
       "1    523      890\n",
       "2    544      880\n",
       "3    370      920\n",
       "4    756     1260\n",
       "..   ...      ...\n",
       "851   71     1270\n",
       "852  932     1550\n",
       "853   39     1830\n",
       "854  283     1500\n",
       "855  847     1190\n",
       "\n",
       "[856 rows x 2 columns]"
      ]
     },
     "execution_count": 23,
     "metadata": {},
     "output_type": "execute_result"
    }
   ],
   "source": [
    "### Indexing\n",
    "df[[\"ID\", \"Balance\"]]"
   ]
  },
  {
   "cell_type": "code",
   "execution_count": 24,
   "id": "e5ad682f-2c55-48fb-8b87-2630c527181b",
   "metadata": {},
   "outputs": [
    {
     "data": {
      "text/plain": [
       "'567'"
      ]
     },
     "execution_count": 24,
     "metadata": {},
     "output_type": "execute_result"
    }
   ],
   "source": [
    "df.loc[0, \"ID\"]"
   ]
  },
  {
   "cell_type": "code",
   "execution_count": 25,
   "id": "d34eed0f-0c15-44d2-aff3-33c5817f9715",
   "metadata": {},
   "outputs": [
    {
     "data": {
      "text/plain": [
       "0     567\n",
       "1     523\n",
       "2     544\n",
       "3     370\n",
       "4     756\n",
       "5     929\n",
       "6     373\n",
       "7     818\n",
       "8     284\n",
       "9     621\n",
       "10    404\n",
       "Name: ID, dtype: string"
      ]
     },
     "execution_count": 25,
     "metadata": {},
     "output_type": "execute_result"
    }
   ],
   "source": [
    "df.loc[0:10, \"ID\"]"
   ]
  },
  {
   "cell_type": "code",
   "execution_count": 26,
   "id": "b7becfa6-e299-439a-8888-d6e01fc8feb2",
   "metadata": {},
   "outputs": [
    {
     "data": {
      "text/html": [
       "<div>\n",
       "<style scoped>\n",
       "    .dataframe tbody tr th:only-of-type {\n",
       "        vertical-align: middle;\n",
       "    }\n",
       "\n",
       "    .dataframe tbody tr th {\n",
       "        vertical-align: top;\n",
       "    }\n",
       "\n",
       "    .dataframe thead th {\n",
       "        text-align: right;\n",
       "    }\n",
       "</style>\n",
       "<table border=\"1\" class=\"dataframe\">\n",
       "  <thead>\n",
       "    <tr style=\"text-align: right;\">\n",
       "      <th></th>\n",
       "      <th>ID</th>\n",
       "      <th>Income</th>\n",
       "      <th>Term</th>\n",
       "      <th>Balance</th>\n",
       "    </tr>\n",
       "  </thead>\n",
       "  <tbody>\n",
       "    <tr>\n",
       "      <th>0</th>\n",
       "      <td>567</td>\n",
       "      <td>17500</td>\n",
       "      <td>Short Term</td>\n",
       "      <td>1460</td>\n",
       "    </tr>\n",
       "    <tr>\n",
       "      <th>1</th>\n",
       "      <td>523</td>\n",
       "      <td>18500</td>\n",
       "      <td>Long Term</td>\n",
       "      <td>890</td>\n",
       "    </tr>\n",
       "    <tr>\n",
       "      <th>2</th>\n",
       "      <td>544</td>\n",
       "      <td>20700</td>\n",
       "      <td>Short Term</td>\n",
       "      <td>880</td>\n",
       "    </tr>\n",
       "    <tr>\n",
       "      <th>3</th>\n",
       "      <td>370</td>\n",
       "      <td>21600</td>\n",
       "      <td>Short Term</td>\n",
       "      <td>920</td>\n",
       "    </tr>\n",
       "    <tr>\n",
       "      <th>4</th>\n",
       "      <td>756</td>\n",
       "      <td>24300</td>\n",
       "      <td>Short Term</td>\n",
       "      <td>1260</td>\n",
       "    </tr>\n",
       "    <tr>\n",
       "      <th>5</th>\n",
       "      <td>929</td>\n",
       "      <td>22900</td>\n",
       "      <td>Long Term</td>\n",
       "      <td>1540</td>\n",
       "    </tr>\n",
       "    <tr>\n",
       "      <th>6</th>\n",
       "      <td>373</td>\n",
       "      <td>20400</td>\n",
       "      <td>Short Term</td>\n",
       "      <td>1200</td>\n",
       "    </tr>\n",
       "    <tr>\n",
       "      <th>7</th>\n",
       "      <td>818</td>\n",
       "      <td>24600</td>\n",
       "      <td>Short Term</td>\n",
       "      <td>1470</td>\n",
       "    </tr>\n",
       "    <tr>\n",
       "      <th>8</th>\n",
       "      <td>284</td>\n",
       "      <td>26500</td>\n",
       "      <td>Long Term</td>\n",
       "      <td>720</td>\n",
       "    </tr>\n",
       "    <tr>\n",
       "      <th>9</th>\n",
       "      <td>621</td>\n",
       "      <td>25400</td>\n",
       "      <td>Short Term</td>\n",
       "      <td>1130</td>\n",
       "    </tr>\n",
       "    <tr>\n",
       "      <th>10</th>\n",
       "      <td>404</td>\n",
       "      <td>19700</td>\n",
       "      <td>Short Term</td>\n",
       "      <td>910</td>\n",
       "    </tr>\n",
       "  </tbody>\n",
       "</table>\n",
       "</div>"
      ],
      "text/plain": [
       "     ID  Income        Term  Balance\n",
       "0   567   17500  Short Term     1460\n",
       "1   523   18500   Long Term      890\n",
       "2   544   20700  Short Term      880\n",
       "3   370   21600  Short Term      920\n",
       "4   756   24300  Short Term     1260\n",
       "5   929   22900   Long Term     1540\n",
       "6   373   20400  Short Term     1200\n",
       "7   818   24600  Short Term     1470\n",
       "8   284   26500   Long Term      720\n",
       "9   621   25400  Short Term     1130\n",
       "10  404   19700  Short Term      910"
      ]
     },
     "execution_count": 26,
     "metadata": {},
     "output_type": "execute_result"
    }
   ],
   "source": [
    "df.loc[0:10:1, \"ID\":\"Balance\"]"
   ]
  },
  {
   "cell_type": "code",
   "execution_count": 27,
   "id": "af3d07d3-d1a2-4193-bde0-a5527584bfd3",
   "metadata": {},
   "outputs": [
    {
     "ename": "SyntaxError",
     "evalue": "positional argument follows keyword argument (1286778868.py, line 1)",
     "output_type": "error",
     "traceback": [
      "\u001b[1;36m  Cell \u001b[1;32mIn[27], line 1\u001b[1;36m\u001b[0m\n\u001b[1;33m    df_sorted=df.sort_values(by=\"Balance\", Reverse).copy()\u001b[0m\n\u001b[1;37m                                                  ^\u001b[0m\n\u001b[1;31mSyntaxError\u001b[0m\u001b[1;31m:\u001b[0m positional argument follows keyword argument\n"
     ]
    }
   ],
   "source": [
    "df_sorted=df.sort_values(by=\"Balance\", Reverse).copy()\n",
    "df_sorted.head() #note the order is preserved so if you use loc, it won't necessarily return what you want since the index is differe --> use iloc"
   ]
  },
  {
   "cell_type": "code",
   "execution_count": null,
   "id": "8c633522-87a5-4dff-b4f5-2c8214c095a4",
   "metadata": {},
   "outputs": [],
   "source": [
    "df_sorted.iloc[0:10, 0:4]"
   ]
  },
  {
   "cell_type": "code",
   "execution_count": null,
   "id": "0786c288-1a4b-437f-a225-43bfecb491eb",
   "metadata": {},
   "outputs": [],
   "source": [
    "### Querying"
   ]
  },
  {
   "cell_type": "code",
   "execution_count": null,
   "id": "5f4cd657-4c32-435c-9cb2-f8ba01a6fe61",
   "metadata": {},
   "outputs": [],
   "source": [
    "df[(df[\"Balance\"]>1000) & (df[\"Income\"]<25000)]"
   ]
  },
  {
   "cell_type": "code",
   "execution_count": null,
   "id": "780c2db7-594f-45cb-a5d4-488644c81515",
   "metadata": {},
   "outputs": [],
   "source": [
    "### Aggregating"
   ]
  },
  {
   "cell_type": "code",
   "execution_count": null,
   "id": "b1ee1edd-6ac3-40e6-a3a0-e97672204e1f",
   "metadata": {},
   "outputs": [],
   "source": [
    "#work from columns you actually need\n",
    "df[['Term', 'Balance']].groupby('Term').get_group(\"Short Term\")"
   ]
  },
  {
   "cell_type": "code",
   "execution_count": null,
   "id": "890ce034-7a8d-46e9-9568-eac544a826c6",
   "metadata": {},
   "outputs": [],
   "source": [
    "df[['Term', 'Balance']].groupby('Term').mean()"
   ]
  },
  {
   "cell_type": "code",
   "execution_count": null,
   "id": "bb2755c0-8f2a-49eb-a6a3-5c8ff1564a78",
   "metadata": {},
   "outputs": [],
   "source": [
    "df[['Term', 'Default', 'Balance']].groupby(['Term', 'Default']).mean()"
   ]
  },
  {
   "cell_type": "code",
   "execution_count": null,
   "id": "da67c04d-220f-44df-b6b8-ea0ec555c78d",
   "metadata": {},
   "outputs": [],
   "source": [
    "df['Mean_Term_Debt'] = df[['Debt', 'Term']].groupby('Term').transform('mean')"
   ]
  },
  {
   "cell_type": "code",
   "execution_count": null,
   "id": "404b5d93-857c-4255-a586-51d8092e9ea8",
   "metadata": {},
   "outputs": [],
   "source": [
    "df"
   ]
  },
  {
   "cell_type": "code",
   "execution_count": null,
   "id": "fe8482b9-69f6-4ba0-b030-88aae7c66010",
   "metadata": {},
   "outputs": [],
   "source": [
    "### data cleaning with pandas"
   ]
  },
  {
   "cell_type": "code",
   "execution_count": null,
   "id": "e589161e-397a-4182-b097-a9cf83411381",
   "metadata": {},
   "outputs": [],
   "source": [
    "#missing values"
   ]
  },
  {
   "cell_type": "code",
   "execution_count": null,
   "id": "a3cedaea-8078-40cc-98be-f9739a9173cb",
   "metadata": {},
   "outputs": [],
   "source": [
    "import numpy as np\n",
    "df = pd.DataFrame({\n",
    "    'participant': [1,2,3,4],\n",
    "    'age':[50, None, 30, np.nan],\n",
    "    'satisfaction':[None, 8, 9, None]\n",
    "})"
   ]
  },
  {
   "cell_type": "code",
   "execution_count": null,
   "id": "e5ec38f2-cdad-4bd9-8518-d4100159f3f7",
   "metadata": {},
   "outputs": [],
   "source": [
    "df.isna()"
   ]
  },
  {
   "cell_type": "code",
   "execution_count": null,
   "id": "832a953e-b78e-4acd-a07d-9830dd20f04e",
   "metadata": {},
   "outputs": [],
   "source": [
    "df.isna().any()"
   ]
  },
  {
   "cell_type": "code",
   "execution_count": null,
   "id": "4f7cec0b-1f30-4da2-add9-5ee5bc2233d2",
   "metadata": {},
   "outputs": [],
   "source": [
    "df.isna().sum()"
   ]
  },
  {
   "cell_type": "code",
   "execution_count": null,
   "id": "129afd05-c006-434f-b436-e2b100975f17",
   "metadata": {},
   "outputs": [],
   "source": [
    "df.isna().any(axis=1)"
   ]
  },
  {
   "cell_type": "code",
   "execution_count": null,
   "id": "00245d4a-f640-48ce-8c8a-d1bf3f29621c",
   "metadata": {},
   "outputs": [],
   "source": [
    "df[df.isna().any(axis=1)]"
   ]
  },
  {
   "cell_type": "code",
   "execution_count": null,
   "id": "c69c2993-6c72-4d70-83e4-5f44482ea56f",
   "metadata": {},
   "outputs": [],
   "source": [
    "df[~df.isna().any(axis=1)]"
   ]
  },
  {
   "cell_type": "code",
   "execution_count": null,
   "id": "8b418ba4-faca-4bb7-9637-296bd3b95da9",
   "metadata": {},
   "outputs": [],
   "source": [
    "df.dropna() # add inplace=True to save changes as state of dataframe"
   ]
  },
  {
   "cell_type": "code",
   "execution_count": null,
   "id": "69f64f8f-09d1-477d-a892-5c6bf3838f78",
   "metadata": {},
   "outputs": [],
   "source": [
    "df.dropna(thresh=2)"
   ]
  },
  {
   "cell_type": "code",
   "execution_count": null,
   "id": "1fc1b4c7-ece0-48af-97e4-715ecc9e839b",
   "metadata": {},
   "outputs": [],
   "source": [
    "df.dropna(subset=['age', 'satisfaction'], how = 'any')"
   ]
  },
  {
   "cell_type": "code",
   "execution_count": null,
   "id": "6d1771ac-ec8e-4cd0-b49a-06f4536d1232",
   "metadata": {},
   "outputs": [],
   "source": [
    "df.fillna(0) # an example"
   ]
  },
  {
   "cell_type": "code",
   "execution_count": null,
   "id": "e2f636b0-a976-4cec-8e13-b168012450a6",
   "metadata": {},
   "outputs": [],
   "source": [
    "df.fillna({'age':df['age'].mean(), 'satisfaction':df['satisfaction'].median})"
   ]
  },
  {
   "cell_type": "code",
   "execution_count": null,
   "id": "540a807a-8df8-4d59-a2d5-1b4925234134",
   "metadata": {},
   "outputs": [],
   "source": [
    "dupes = pd.read_csv(r\"C:\\Users\\Admin\\Documents\\Course Files\\QADHPYTHON\\data\\loan_data2.csv\")"
   ]
  },
  {
   "cell_type": "code",
   "execution_count": null,
   "id": "cd882d75-ca86-4054-8974-8dbb8888b3fa",
   "metadata": {},
   "outputs": [],
   "source": [
    "dupes.info()"
   ]
  },
  {
   "cell_type": "code",
   "execution_count": null,
   "id": "1301f4e0-69c7-4233-82d5-0d7cbd79dcaf",
   "metadata": {},
   "outputs": [],
   "source": [
    "dupes.duplicated().sum()"
   ]
  },
  {
   "cell_type": "code",
   "execution_count": null,
   "id": "bdacead3-d402-4f49-81ca-e297e0dcfd64",
   "metadata": {},
   "outputs": [],
   "source": [
    "dupes[dupes.duplicated()]"
   ]
  },
  {
   "cell_type": "code",
   "execution_count": null,
   "id": "f28436cb-0f13-4468-b02f-e9a774c9506b",
   "metadata": {},
   "outputs": [],
   "source": [
    "dupes.drop_duplicates(inplace=True)  #equivalent to dupes = dupes.drop_duplicates()"
   ]
  },
  {
   "cell_type": "code",
   "execution_count": null,
   "id": "4089d233-3338-4469-9719-e74cd1bfb51e",
   "metadata": {},
   "outputs": [],
   "source": [
    "dupes"
   ]
  },
  {
   "cell_type": "code",
   "execution_count": null,
   "id": "696bfd96-a175-4bb4-ba95-d2591310816d",
   "metadata": {},
   "outputs": [],
   "source": [
    "##data transformations"
   ]
  },
  {
   "cell_type": "code",
   "execution_count": null,
   "id": "fba3055f-c300-439a-9909-82454c350d88",
   "metadata": {},
   "outputs": [],
   "source": [
    "df = pd.read_csv(r\"C:\\Users\\Admin\\Documents\\Course Files\\QADHPYTHON\\data\\loan_data.csv\")"
   ]
  },
  {
   "cell_type": "code",
   "execution_count": null,
   "id": "f3d39a43-2ef6-41d9-b51a-5403033503d7",
   "metadata": {},
   "outputs": [],
   "source": [
    "df.drop(\"ID\", axis=1, inplace=True)"
   ]
  },
  {
   "cell_type": "code",
   "execution_count": null,
   "id": "550d282c-40da-412e-81c5-393f3513869a",
   "metadata": {},
   "outputs": [],
   "source": [
    "df.drop(0)"
   ]
  },
  {
   "cell_type": "code",
   "execution_count": null,
   "id": "46bb4379-518f-4e31-94ab-93fb3be46d57",
   "metadata": {},
   "outputs": [],
   "source": [
    "df['Net Assets']=df['Balance'] - df['Debt']"
   ]
  },
  {
   "cell_type": "code",
   "execution_count": null,
   "id": "7fd34d7c-8068-4e0d-83c6-90d9e36c4ebc",
   "metadata": {},
   "outputs": [],
   "source": [
    "df.replace({'Short Term':\"6 Month\", 'Long Term':\"12 Month\"}, regex = True) #so swapping short with 6 month so not including term"
   ]
  },
  {
   "cell_type": "code",
   "execution_count": null,
   "id": "e1832daa-a5ca-4a7b-ba47-d3292925f334",
   "metadata": {},
   "outputs": [],
   "source": [
    "def debtclassify(debt):\n",
    "    if debt>1000:\n",
    "        return \"High\"\n",
    "    else:\n",
    "        return \"Low Debt\""
   ]
  },
  {
   "cell_type": "code",
   "execution_count": null,
   "id": "8082de58-ad4c-4a04-9103-240f6ff28085",
   "metadata": {},
   "outputs": [],
   "source": [
    "df[\"Debt\"].map(debtclassify) # for a single point"
   ]
  },
  {
   "cell_type": "code",
   "execution_count": null,
   "id": "dfaf3ea2-c84e-45fc-a702-a2b73de80bc2",
   "metadata": {},
   "outputs": [],
   "source": [
    "df['Debt'].map(lambda debt:'high' if debt > 1000 else 'Low') #applies function wihtout having to define function"
   ]
  },
  {
   "cell_type": "code",
   "execution_count": null,
   "id": "21028779-4140-462c-a8bd-8e6945ea17c4",
   "metadata": {},
   "outputs": [],
   "source": [
    "#apply works to entire column\n",
    "df.select_dtypes('number').apply(lambda col: ((col - col.mean())/col.std()))"
   ]
  },
  {
   "cell_type": "code",
   "execution_count": null,
   "id": "51e68a9c-9654-4c4a-91f3-f439f3dfd9e3",
   "metadata": {},
   "outputs": [],
   "source": []
  }
 ],
 "metadata": {
  "kernelspec": {
   "display_name": "Python 3 (ipykernel)",
   "language": "python",
   "name": "python3"
  },
  "language_info": {
   "codemirror_mode": {
    "name": "ipython",
    "version": 3
   },
   "file_extension": ".py",
   "mimetype": "text/x-python",
   "name": "python",
   "nbconvert_exporter": "python",
   "pygments_lexer": "ipython3",
   "version": "3.11.9"
  }
 },
 "nbformat": 4,
 "nbformat_minor": 5
}
