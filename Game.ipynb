{
 "cells": [
  {
   "cell_type": "code",
   "execution_count": 1,
   "id": "f57e62af-817b-4c0c-afcf-5c6e1c6aa4ad",
   "metadata": {},
   "outputs": [],
   "source": [
    "import random as rd"
   ]
  },
  {
   "cell_type": "code",
   "execution_count": null,
   "id": "fc8e077b-b134-48ca-b812-7550c7ae749b",
   "metadata": {},
   "outputs": [
    {
     "name": "stdin",
     "output_type": "stream",
     "text": [
      "Please enter your guess between 1-100 9\n"
     ]
    },
    {
     "name": "stdout",
     "output_type": "stream",
     "text": [
      "Try again\n",
      "You have 4 guesses left!\n"
     ]
    },
    {
     "name": "stdin",
     "output_type": "stream",
     "text": [
      "Please enter your guess between 1-100 8\n"
     ]
    },
    {
     "name": "stdout",
     "output_type": "stream",
     "text": [
      "Try again\n",
      "You have 3 guesses left!\n"
     ]
    }
   ],
   "source": [
    "#level 1\n",
    "guess_counter = 0\n",
    "attempts = 5\n",
    "guess=None\n",
    "previous_guess = None\n",
    "target = rd.randrange(1,100)\n",
    "\n",
    "while guess_counter<=attempts:\n",
    "    guess = int(input(\"Please enter your guess between 1-100\"))\n",
    "    if guess !=target:\n",
    "        guess_counter+=1\n",
    "        if previous_guess == None:\n",
    "            print(f\"Try again\\nYou have {attempts-guess_counter} guesses left!\")\n",
    "        else:\n",
    "            if abs(target-guess)<abs(target-previous_guess):\n",
    "                print(\"Warmer\")\n",
    "            else:\n",
    "                print(\"Colder\")\n",
    "    else:\n",
    "        print(\"Congratulations\")\n",
    "    guess = previous_guess\n",
    "print(f\"The number is: {target}\")"
   ]
  },
  {
   "cell_type": "code",
   "execution_count": 13,
   "id": "d59bb0b5-bccd-4aaa-97f8-18261d63e1f0",
   "metadata": {},
   "outputs": [
    {
     "name": "stdout",
     "output_type": "stream",
     "text": [
      "Choose from a difficulty level: \n",
      "Easy: Range = [0-25], Attempts = 15 \n",
      " Medium:Range = [0-50], Attempts = 10 \n",
      " Hard: Range = [0.75], Attempts = 7\n"
     ]
    },
    {
     "ename": "KeyboardInterrupt",
     "evalue": "Interrupted by user",
     "output_type": "error",
     "traceback": [
      "\u001b[1;31m---------------------------------------------------------------------------\u001b[0m",
      "\u001b[1;31mKeyboardInterrupt\u001b[0m                         Traceback (most recent call last)",
      "Cell \u001b[1;32mIn[13], line 3\u001b[0m\n\u001b[0;32m      1\u001b[0m \u001b[38;5;66;03m#level 2\u001b[39;00m\n\u001b[0;32m      2\u001b[0m \u001b[38;5;28mprint\u001b[39m(\u001b[38;5;124mf\u001b[39m\u001b[38;5;124m\"\u001b[39m\u001b[38;5;124mChoose from a difficulty level: \u001b[39m\u001b[38;5;130;01m\\n\u001b[39;00m\u001b[38;5;124mEasy: Range = [0-25], Attempts = 15 \u001b[39m\u001b[38;5;130;01m\\n\u001b[39;00m\u001b[38;5;124m Medium:Range = [0-50], Attempts = 10 \u001b[39m\u001b[38;5;130;01m\\n\u001b[39;00m\u001b[38;5;124m Hard: Range = [0.75], Attempts = 7\u001b[39m\u001b[38;5;124m\"\u001b[39m)\n\u001b[1;32m----> 3\u001b[0m difficult_level \u001b[38;5;241m=\u001b[39m \u001b[38;5;28;43minput\u001b[39;49m\u001b[43m(\u001b[49m\u001b[38;5;124;43mf\u001b[39;49m\u001b[38;5;124;43m\"\u001b[39;49m\u001b[38;5;124;43mPlease input your difficulty level:\u001b[39;49m\u001b[38;5;124;43m\"\u001b[39;49m\u001b[43m)\u001b[49m\n",
      "File \u001b[1;32m~\\anaconda3\\envs\\dhp\\Lib\\site-packages\\ipykernel\\kernelbase.py:1282\u001b[0m, in \u001b[0;36mKernel.raw_input\u001b[1;34m(self, prompt)\u001b[0m\n\u001b[0;32m   1280\u001b[0m     msg \u001b[38;5;241m=\u001b[39m \u001b[38;5;124m\"\u001b[39m\u001b[38;5;124mraw_input was called, but this frontend does not support input requests.\u001b[39m\u001b[38;5;124m\"\u001b[39m\n\u001b[0;32m   1281\u001b[0m     \u001b[38;5;28;01mraise\u001b[39;00m StdinNotImplementedError(msg)\n\u001b[1;32m-> 1282\u001b[0m \u001b[38;5;28;01mreturn\u001b[39;00m \u001b[38;5;28;43mself\u001b[39;49m\u001b[38;5;241;43m.\u001b[39;49m\u001b[43m_input_request\u001b[49m\u001b[43m(\u001b[49m\n\u001b[0;32m   1283\u001b[0m \u001b[43m    \u001b[49m\u001b[38;5;28;43mstr\u001b[39;49m\u001b[43m(\u001b[49m\u001b[43mprompt\u001b[49m\u001b[43m)\u001b[49m\u001b[43m,\u001b[49m\n\u001b[0;32m   1284\u001b[0m \u001b[43m    \u001b[49m\u001b[38;5;28;43mself\u001b[39;49m\u001b[38;5;241;43m.\u001b[39;49m\u001b[43m_parent_ident\u001b[49m\u001b[43m[\u001b[49m\u001b[38;5;124;43m\"\u001b[39;49m\u001b[38;5;124;43mshell\u001b[39;49m\u001b[38;5;124;43m\"\u001b[39;49m\u001b[43m]\u001b[49m\u001b[43m,\u001b[49m\n\u001b[0;32m   1285\u001b[0m \u001b[43m    \u001b[49m\u001b[38;5;28;43mself\u001b[39;49m\u001b[38;5;241;43m.\u001b[39;49m\u001b[43mget_parent\u001b[49m\u001b[43m(\u001b[49m\u001b[38;5;124;43m\"\u001b[39;49m\u001b[38;5;124;43mshell\u001b[39;49m\u001b[38;5;124;43m\"\u001b[39;49m\u001b[43m)\u001b[49m\u001b[43m,\u001b[49m\n\u001b[0;32m   1286\u001b[0m \u001b[43m    \u001b[49m\u001b[43mpassword\u001b[49m\u001b[38;5;241;43m=\u001b[39;49m\u001b[38;5;28;43;01mFalse\u001b[39;49;00m\u001b[43m,\u001b[49m\n\u001b[0;32m   1287\u001b[0m \u001b[43m\u001b[49m\u001b[43m)\u001b[49m\n",
      "File \u001b[1;32m~\\anaconda3\\envs\\dhp\\Lib\\site-packages\\ipykernel\\kernelbase.py:1325\u001b[0m, in \u001b[0;36mKernel._input_request\u001b[1;34m(self, prompt, ident, parent, password)\u001b[0m\n\u001b[0;32m   1322\u001b[0m \u001b[38;5;28;01mexcept\u001b[39;00m \u001b[38;5;167;01mKeyboardInterrupt\u001b[39;00m:\n\u001b[0;32m   1323\u001b[0m     \u001b[38;5;66;03m# re-raise KeyboardInterrupt, to truncate traceback\u001b[39;00m\n\u001b[0;32m   1324\u001b[0m     msg \u001b[38;5;241m=\u001b[39m \u001b[38;5;124m\"\u001b[39m\u001b[38;5;124mInterrupted by user\u001b[39m\u001b[38;5;124m\"\u001b[39m\n\u001b[1;32m-> 1325\u001b[0m     \u001b[38;5;28;01mraise\u001b[39;00m \u001b[38;5;167;01mKeyboardInterrupt\u001b[39;00m(msg) \u001b[38;5;28;01mfrom\u001b[39;00m \u001b[38;5;28;01mNone\u001b[39;00m\n\u001b[0;32m   1326\u001b[0m \u001b[38;5;28;01mexcept\u001b[39;00m \u001b[38;5;167;01mException\u001b[39;00m:\n\u001b[0;32m   1327\u001b[0m     \u001b[38;5;28mself\u001b[39m\u001b[38;5;241m.\u001b[39mlog\u001b[38;5;241m.\u001b[39mwarning(\u001b[38;5;124m\"\u001b[39m\u001b[38;5;124mInvalid Message:\u001b[39m\u001b[38;5;124m\"\u001b[39m, exc_info\u001b[38;5;241m=\u001b[39m\u001b[38;5;28;01mTrue\u001b[39;00m)\n",
      "\u001b[1;31mKeyboardInterrupt\u001b[0m: Interrupted by user"
     ]
    }
   ],
   "source": [
    "#level 2\n",
    "print(f\"Choose a difficulty level:\\n Easy: Range = [0-25], Attempts = 10 \\n Medium:Range = [0-50], Attempts = 7 \\n Hard: Range = [0,75], Attempts = 5\")\n",
    "level = input(f\"Please input your difficulty level:\")\n",
    "\n",
    "if level = \"Easy\":\n",
    "    guess_counter = 0\n",
    "    attempts = 5\n",
    "    guess = None\n",
    "    previous_guess = None\n",
    "    target = rd.randrange(0,10)\n",
    "    \n",
    "    while guess_counter<=attempts:\n",
    "        guess = int(input(\"Please enter your guess between 1-100\"\n",
    "        if guess !=target:\n",
    "            if previous_guess = None:\n",
    "                    guess_counter+=1\n",
    "            print(f\"Try again\\nYou have {attempts-guess_counter} guesses left!\")\n",
    "            \n",
    "        else:\n",
    "            print(\"Congratulations\")\n",
    "    print(f\"The number is: {target}\")\n",
    "\n",
    "elif level = \"Medium\":\n",
    "    guess_counter = 0\n",
    "    attempts = 7\n",
    "    target = rd.randrange(0,50)\n",
    "    \n",
    "    while guess_counter<=attempts:\n",
    "        guess = int(input(\"Please enter your guess between 1-100\"))\n",
    "        if guess !=target:\n",
    "            guess_counter+=1\n",
    "            print(f\"Try again\\nYou have {attempts-guess_counter} guesses left!\")\n",
    "        else:\n",
    "            print(\"Congratulations\")\n",
    "    print(f\"The number is: {target}\")\n",
    "\n",
    "elif level = \"Medium\":\n",
    "    guess_counter = 0\n",
    "    attempts = 5\n",
    "    target = rd.randrange(0,75)\n",
    "    \n",
    "    while guess_counter<=attempts:\n",
    "        guess = int(input(\"Please enter your guess between 1-100\"))\n",
    "        if guess !=target:\n",
    "            guess_counter+=1\n",
    "            print(f\"Try again\\nYou have {attempts-guess_counter} guesses left!\")\n",
    "        else:\n",
    "            print(\"Congratulations\")\n",
    "    print(f\"The number is: {target}\")\n",
    "\n",
    "else:\n",
    "    break"
   ]
  },
  {
   "cell_type": "code",
   "execution_count": null,
   "id": "bd5e9119-79db-4843-8ef0-3bad136941ef",
   "metadata": {},
   "outputs": [],
   "source": []
  }
 ],
 "metadata": {
  "kernelspec": {
   "display_name": "Python 3 (ipykernel)",
   "language": "python",
   "name": "python3"
  },
  "language_info": {
   "codemirror_mode": {
    "name": "ipython",
    "version": 3
   },
   "file_extension": ".py",
   "mimetype": "text/x-python",
   "name": "python",
   "nbconvert_exporter": "python",
   "pygments_lexer": "ipython3",
   "version": "3.11.9"
  }
 },
 "nbformat": 4,
 "nbformat_minor": 5
}
